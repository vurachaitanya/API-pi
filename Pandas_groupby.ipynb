{
  "nbformat": 4,
  "nbformat_minor": 0,
  "metadata": {
    "colab": {
      "name": "Pandas_groupby.ipynb",
      "provenance": [],
      "authorship_tag": "ABX9TyMf/mk4EDpomSbTdfpvCjxY",
      "include_colab_link": true
    },
    "kernelspec": {
      "name": "python3",
      "display_name": "Python 3"
    }
  },
  "cells": [
    {
      "cell_type": "markdown",
      "metadata": {
        "id": "view-in-github",
        "colab_type": "text"
      },
      "source": [
        "<a href=\"https://colab.research.google.com/github/vurachaitanya/API-pi/blob/master/Pandas_groupby.ipynb\" target=\"_parent\"><img src=\"https://colab.research.google.com/assets/colab-badge.svg\" alt=\"Open In Colab\"/></a>"
      ]
    },
    {
      "cell_type": "markdown",
      "metadata": {
        "id": "YyqZqep9Mprr",
        "colab_type": "text"
      },
      "source": [
        "# Topics covered :\n",
        "* Groupby operations\n",
        "* Lambda Functions with groupby operations\n",
        "* case study : Bank churning modelling\n",
        "* Data Visulization using matplotlib and seabron"
      ]
    },
    {
      "cell_type": "code",
      "metadata": {
        "id": "ZcZHt0OVLGas",
        "colab_type": "code",
        "colab": {
          "base_uri": "https://localhost:8080/",
          "height": 416
        },
        "outputId": "84d416ba-8c85-4312-b489-fbcd7e64c417"
      },
      "source": [
        "import pandas\n",
        "#r= Raw String - only in windows we have/ but it interpreters as null or supression hence to convert we need to use this.\n",
        "#b= Bites format - Convert into \n",
        "data=pandas.read_csv(r\"https://www.stats.govt.nz/assets/Uploads/Electronic-card-transactions/Electronic-card-transactions-January-2020/Download-data/electronic-card-transactions-january-2020-csv.zip\")\n",
        "print(data.describe())\n",
        "print(data.head());\n",
        "data.columns"
      ],
      "execution_count": 4,
      "outputs": [
        {
          "output_type": "stream",
          "text": [
            "             Period    Data_value  ...  Series_title_4  Series_title_5\n",
            "count  16621.000000  1.550000e+04  ...             0.0             0.0\n",
            "mean    2010.283014  1.431928e+07  ...             NaN             NaN\n",
            "std        5.415901  7.891689e+07  ...             NaN             NaN\n",
            "min     2000.010000 -2.700000e+00  ...             NaN             NaN\n",
            "25%     2006.030000  1.768750e+02  ...             NaN             NaN\n",
            "50%     2010.090000  1.141900e+03  ...             NaN             NaN\n",
            "75%     2015.050000  3.978925e+03  ...             NaN             NaN\n",
            "max     2020.010000  1.835450e+09  ...             NaN             NaN\n",
            "\n",
            "[8 rows x 6 columns]\n",
            "  Series_reference   Period  ...  Series_title_4  Series_title_5\n",
            "0       ECTA.S19A1  2001.03  ...             NaN             NaN\n",
            "1       ECTA.S19A1  2002.03  ...             NaN             NaN\n",
            "2       ECTA.S19A1  2003.03  ...             NaN             NaN\n",
            "3       ECTA.S19A1  2004.03  ...             NaN             NaN\n",
            "4       ECTA.S19A1  2005.03  ...             NaN             NaN\n",
            "\n",
            "[5 rows x 14 columns]\n"
          ],
          "name": "stdout"
        },
        {
          "output_type": "execute_result",
          "data": {
            "text/plain": [
              "Index(['Series_reference', 'Period', 'Data_value', 'Suppressed', 'STATUS',\n",
              "       'UNITS', 'Magnitude', 'Subject', 'Group', 'Series_title_1',\n",
              "       'Series_title_2', 'Series_title_3', 'Series_title_4', 'Series_title_5'],\n",
              "      dtype='object')"
            ]
          },
          "metadata": {
            "tags": []
          },
          "execution_count": 4
        }
      ]
    },
    {
      "cell_type": "code",
      "metadata": {
        "id": "h-bTBac1OYz-",
        "colab_type": "code",
        "colab": {
          "base_uri": "https://localhost:8080/",
          "height": 35
        },
        "outputId": "1471ad57-78eb-4e5a-9e4a-d9c01188b8e0"
      },
      "source": [
        "data['Series_reference'].unique().size"
      ],
      "execution_count": 6,
      "outputs": [
        {
          "output_type": "execute_result",
          "data": {
            "text/plain": [
              "137"
            ]
          },
          "metadata": {
            "tags": []
          },
          "execution_count": 6
        }
      ]
    },
    {
      "cell_type": "code",
      "metadata": {
        "id": "E_8Zb1PGPBSq",
        "colab_type": "code",
        "colab": {
          "base_uri": "https://localhost:8080/",
          "height": 624
        },
        "outputId": "612f9f12-f0c7-40eb-ec2e-d49164cdaa18"
      },
      "source": [
        "data['Series_reference'].unique()"
      ],
      "execution_count": 7,
      "outputs": [
        {
          "output_type": "execute_result",
          "data": {
            "text/plain": [
              "array(['ECTA.S19A1', 'ECTA.S19A2', 'ECTA.S19A9', 'ECTA.S19AW',\n",
              "       'ECTA.S19AX', 'ECTA.S1GA1', 'ECTA.S1GA2', 'ECTA.S1GA3',\n",
              "       'ECTA.S1GA4', 'ECTA.S1GA5', 'ECTA.S1GA6', 'ECTA.S1GA7',\n",
              "       'ECTA.S1GA8', 'ECTA.S29A1', 'ECTA.S29A2', 'ECTA.S29A9',\n",
              "       'ECTA.S29AW', 'ECTA.S29AX', 'ECTA.S4A1V', 'ECTA.S4A2V',\n",
              "       'ECTA.S4A3N', 'ECTA.S4ACP', 'ECTA.S4ARP', 'ECTA.S4AWP',\n",
              "       'ECTA.S4AXP', 'ECTM.S19A1', 'ECTM.S19A1AC', 'ECTM.S19A2',\n",
              "       'ECTM.S19A2AC', 'ECTM.S19A9', 'ECTM.S19A9AC', 'ECTM.S19AW',\n",
              "       'ECTM.S19AX', 'ECTM.S19S1', 'ECTM.S19S1PC', 'ECTM.S19S2',\n",
              "       'ECTM.S19S2PC', 'ECTM.S19S9', 'ECTM.S19S9PC', 'ECTM.S19SW',\n",
              "       'ECTM.S19SX', 'ECTM.S19T1', 'ECTM.S19T2', 'ECTM.S19T9',\n",
              "       'ECTM.S19TW', 'ECTM.S19TX', 'ECTM.S1GA1', 'ECTM.S1GA2',\n",
              "       'ECTM.S1GA3', 'ECTM.S1GA4', 'ECTM.S1GA5', 'ECTM.S1GA6',\n",
              "       'ECTM.S1GA7', 'ECTM.S1GA8', 'ECTM.S1GS1', 'ECTM.S1GS2',\n",
              "       'ECTM.S1GS3', 'ECTM.S1GS4', 'ECTM.S1GS5', 'ECTM.S1GS6',\n",
              "       'ECTM.S1GS7', 'ECTM.S1GS8', 'ECTM.S1GT1', 'ECTM.S1GT2',\n",
              "       'ECTM.S1GT3', 'ECTM.S1GT4', 'ECTM.S1GT5', 'ECTM.S1GT6',\n",
              "       'ECTM.S1GT7', 'ECTM.S1GT8', 'ECTM.S29A1', 'ECTM.S29A2',\n",
              "       'ECTM.S29A9', 'ECTM.S29AW', 'ECTM.S29AX', 'ECTM.S4A1V',\n",
              "       'ECTM.S4ACP', 'ECTM.S4ARP', 'ECTM.S4AWP', 'ECTM.S4AXP',\n",
              "       'ECTQ.S19A1', 'ECTQ.S19A1AC', 'ECTQ.S19A2', 'ECTQ.S19A2AC',\n",
              "       'ECTQ.S19A9', 'ECTQ.S19A9AC', 'ECTQ.S19AW', 'ECTQ.S19AX',\n",
              "       'ECTQ.S19S1', 'ECTQ.S19S1PC', 'ECTQ.S19S2', 'ECTQ.S19S2PC',\n",
              "       'ECTQ.S19S9', 'ECTQ.S19S9PC', 'ECTQ.S19SW', 'ECTQ.S19SX',\n",
              "       'ECTQ.S19T1', 'ECTQ.S19T2', 'ECTQ.S19T9', 'ECTQ.S19TW',\n",
              "       'ECTQ.S19TX', 'ECTQ.S1GA1', 'ECTQ.S1GA2', 'ECTQ.S1GA3',\n",
              "       'ECTQ.S1GA4', 'ECTQ.S1GA5', 'ECTQ.S1GA6', 'ECTQ.S1GA7',\n",
              "       'ECTQ.S1GA8', 'ECTQ.S1GS1', 'ECTQ.S1GS2', 'ECTQ.S1GS3',\n",
              "       'ECTQ.S1GS4', 'ECTQ.S1GS5', 'ECTQ.S1GS6', 'ECTQ.S1GS7',\n",
              "       'ECTQ.S1GS8', 'ECTQ.S1GT1', 'ECTQ.S1GT2', 'ECTQ.S1GT3',\n",
              "       'ECTQ.S1GT4', 'ECTQ.S1GT5', 'ECTQ.S1GT6', 'ECTQ.S1GT7',\n",
              "       'ECTQ.S1GT8', 'ECTQ.S29A1', 'ECTQ.S29A2', 'ECTQ.S29A9',\n",
              "       'ECTQ.S29AW', 'ECTQ.S29AX', 'ECTQ.S4A1V', 'ECTQ.S4A2V',\n",
              "       'ECTQ.S4A3N', 'ECTQ.S4ACP', 'ECTQ.S4ARP', 'ECTQ.S4AWP',\n",
              "       'ECTQ.S4AXP'], dtype=object)"
            ]
          },
          "metadata": {
            "tags": []
          },
          "execution_count": 7
        }
      ]
    },
    {
      "cell_type": "code",
      "metadata": {
        "id": "MN0Xc1vZPF58",
        "colab_type": "code",
        "colab": {
          "base_uri": "https://localhost:8080/",
          "height": 222
        },
        "outputId": "c8fa3374-5b92-4d7d-f866-e259bf6bc051"
      },
      "source": [
        "#data['Series_reference'].unique()\n",
        "a= data.groupby(\"STATUS\") #['Series_reference'].size\n",
        "a.count()"
      ],
      "execution_count": 36,
      "outputs": [
        {
          "output_type": "execute_result",
          "data": {
            "text/html": [
              "<div>\n",
              "<style scoped>\n",
              "    .dataframe tbody tr th:only-of-type {\n",
              "        vertical-align: middle;\n",
              "    }\n",
              "\n",
              "    .dataframe tbody tr th {\n",
              "        vertical-align: top;\n",
              "    }\n",
              "\n",
              "    .dataframe thead th {\n",
              "        text-align: right;\n",
              "    }\n",
              "</style>\n",
              "<table border=\"1\" class=\"dataframe\">\n",
              "  <thead>\n",
              "    <tr style=\"text-align: right;\">\n",
              "      <th></th>\n",
              "      <th>Series_reference</th>\n",
              "      <th>Period</th>\n",
              "      <th>Data_value</th>\n",
              "      <th>Suppressed</th>\n",
              "      <th>UNITS</th>\n",
              "      <th>Magnitude</th>\n",
              "      <th>Subject</th>\n",
              "      <th>Group</th>\n",
              "      <th>Series_title_1</th>\n",
              "      <th>Series_title_2</th>\n",
              "      <th>Series_title_3</th>\n",
              "      <th>Series_title_4</th>\n",
              "      <th>Series_title_5</th>\n",
              "    </tr>\n",
              "    <tr>\n",
              "      <th>STATUS</th>\n",
              "      <th></th>\n",
              "      <th></th>\n",
              "      <th></th>\n",
              "      <th></th>\n",
              "      <th></th>\n",
              "      <th></th>\n",
              "      <th></th>\n",
              "      <th></th>\n",
              "      <th></th>\n",
              "      <th></th>\n",
              "      <th></th>\n",
              "      <th></th>\n",
              "      <th></th>\n",
              "    </tr>\n",
              "  </thead>\n",
              "  <tbody>\n",
              "    <tr>\n",
              "      <th>C</th>\n",
              "      <td>1119</td>\n",
              "      <td>1119</td>\n",
              "      <td>0</td>\n",
              "      <td>0</td>\n",
              "      <td>1119</td>\n",
              "      <td>1119</td>\n",
              "      <td>1119</td>\n",
              "      <td>1119</td>\n",
              "      <td>1119</td>\n",
              "      <td>1119</td>\n",
              "      <td>268</td>\n",
              "      <td>0</td>\n",
              "      <td>0</td>\n",
              "    </tr>\n",
              "    <tr>\n",
              "      <th>F</th>\n",
              "      <td>7475</td>\n",
              "      <td>7475</td>\n",
              "      <td>7473</td>\n",
              "      <td>0</td>\n",
              "      <td>7475</td>\n",
              "      <td>7475</td>\n",
              "      <td>7475</td>\n",
              "      <td>7475</td>\n",
              "      <td>7475</td>\n",
              "      <td>7475</td>\n",
              "      <td>2146</td>\n",
              "      <td>0</td>\n",
              "      <td>0</td>\n",
              "    </tr>\n",
              "    <tr>\n",
              "      <th>P</th>\n",
              "      <td>14</td>\n",
              "      <td>14</td>\n",
              "      <td>14</td>\n",
              "      <td>0</td>\n",
              "      <td>14</td>\n",
              "      <td>14</td>\n",
              "      <td>14</td>\n",
              "      <td>14</td>\n",
              "      <td>14</td>\n",
              "      <td>14</td>\n",
              "      <td>14</td>\n",
              "      <td>0</td>\n",
              "      <td>0</td>\n",
              "    </tr>\n",
              "    <tr>\n",
              "      <th>R</th>\n",
              "      <td>8013</td>\n",
              "      <td>8013</td>\n",
              "      <td>8013</td>\n",
              "      <td>0</td>\n",
              "      <td>8013</td>\n",
              "      <td>8013</td>\n",
              "      <td>8013</td>\n",
              "      <td>8013</td>\n",
              "      <td>8013</td>\n",
              "      <td>8013</td>\n",
              "      <td>863</td>\n",
              "      <td>0</td>\n",
              "      <td>0</td>\n",
              "    </tr>\n",
              "  </tbody>\n",
              "</table>\n",
              "</div>"
            ],
            "text/plain": [
              "        Series_reference  Period  ...  Series_title_4  Series_title_5\n",
              "STATUS                            ...                                \n",
              "C                   1119    1119  ...               0               0\n",
              "F                   7475    7475  ...               0               0\n",
              "P                     14      14  ...               0               0\n",
              "R                   8013    8013  ...               0               0\n",
              "\n",
              "[4 rows x 13 columns]"
            ]
          },
          "metadata": {
            "tags": []
          },
          "execution_count": 36
        }
      ]
    },
    {
      "cell_type": "code",
      "metadata": {
        "id": "LDdTB161hH32",
        "colab_type": "code",
        "colab": {
          "base_uri": "https://localhost:8080/",
          "height": 399
        },
        "outputId": "ea69fbc1-0b95-497a-9c54-425f7d97b48b"
      },
      "source": [
        "data.head()\n",
        "print(data['Data_value'].mean())\n",
        "print(data['STATUS'].unique())\n",
        "print(data['STATUS'].unique().size)\n",
        "c=data.groupby(by='STATUS')['Data_value']\n",
        "print(c.count())\n",
        "c.value_counts()"
      ],
      "execution_count": 66,
      "outputs": [
        {
          "output_type": "stream",
          "text": [
            "14319279.741980689\n",
            "['F' 'C' 'R' 'P']\n",
            "4\n",
            "STATUS\n",
            "C       0\n",
            "F    7473\n",
            "P      14\n",
            "R    8013\n",
            "Name: Data_value, dtype: int64\n"
          ],
          "name": "stdout"
        },
        {
          "output_type": "execute_result",
          "data": {
            "text/plain": [
              "STATUS  Data_value\n",
              "F       5.7           20\n",
              "        5.6           17\n",
              "        6.4           17\n",
              "        7.6           17\n",
              "        57.4          17\n",
              "                      ..\n",
              "R       21834.5        1\n",
              "        21910.8        1\n",
              "        21935.5        1\n",
              "        22060.1        1\n",
              "        22074.1        1\n",
              "Name: Data_value, Length: 12145, dtype: int64"
            ]
          },
          "metadata": {
            "tags": []
          },
          "execution_count": 66
        }
      ]
    },
    {
      "cell_type": "code",
      "metadata": {
        "id": "aW-eM6yQoFe9",
        "colab_type": "code",
        "colab": {
          "base_uri": "https://localhost:8080/",
          "height": 243
        },
        "outputId": "b7c7643c-c548-4edd-eacf-055bf1d2d2ef"
      },
      "source": [
        "c=data.groupby(by=['STATUS','UNITS'])['Data_value']\n",
        "print(c.count())"
      ],
      "execution_count": 70,
      "outputs": [
        {
          "output_type": "stream",
          "text": [
            "STATUS  UNITS  \n",
            "C       Dollars       0\n",
            "        Number        0\n",
            "        Percent       0\n",
            "F       Dollars    4212\n",
            "        Number     1520\n",
            "        Percent    1741\n",
            "P       Dollars       7\n",
            "        Number        7\n",
            "R       Dollars    7172\n",
            "        Number       22\n",
            "        Percent     819\n",
            "Name: Data_value, dtype: int64\n"
          ],
          "name": "stdout"
        }
      ]
    },
    {
      "cell_type": "code",
      "metadata": {
        "id": "djwtQEGHo0S_",
        "colab_type": "code",
        "colab": {
          "base_uri": "https://localhost:8080/",
          "height": 243
        },
        "outputId": "e53e0585-a0a4-40e2-870d-21d8b30025d8"
      },
      "source": [
        "c=data.groupby(['STATUS','UNITS'])['Data_value'] ## With out \"by\" operater\n",
        "print(c.count())"
      ],
      "execution_count": 71,
      "outputs": [
        {
          "output_type": "stream",
          "text": [
            "STATUS  UNITS  \n",
            "C       Dollars       0\n",
            "        Number        0\n",
            "        Percent       0\n",
            "F       Dollars    4212\n",
            "        Number     1520\n",
            "        Percent    1741\n",
            "P       Dollars       7\n",
            "        Number        7\n",
            "R       Dollars    7172\n",
            "        Number       22\n",
            "        Percent     819\n",
            "Name: Data_value, dtype: int64\n"
          ],
          "name": "stdout"
        }
      ]
    },
    {
      "cell_type": "markdown",
      "metadata": {
        "id": "pudiJAXDrNSX",
        "colab_type": "text"
      },
      "source": [
        "# lambda Functions"
      ]
    },
    {
      "cell_type": "code",
      "metadata": {
        "id": "oSdSwP3bpCTm",
        "colab_type": "code",
        "colab": {
          "base_uri": "https://localhost:8080/",
          "height": 201
        },
        "outputId": "167312f2-7634-4c51-b146-b92a376654f4"
      },
      "source": [
        "import pandas\n",
        "data=pandas.read_csv(r,\"https://www.kaggle.com/aakash50897/churn-modellingcsv/download\")\n",
        "data.describe()"
      ],
      "execution_count": 72,
      "outputs": [
        {
          "output_type": "error",
          "ename": "NameError",
          "evalue": "ignored",
          "traceback": [
            "\u001b[0;31m---------------------------------------------------------------------------\u001b[0m",
            "\u001b[0;31mNameError\u001b[0m                                 Traceback (most recent call last)",
            "\u001b[0;32m<ipython-input-72-54ecaad204dc>\u001b[0m in \u001b[0;36m<module>\u001b[0;34m()\u001b[0m\n\u001b[1;32m      1\u001b[0m \u001b[0;32mimport\u001b[0m \u001b[0mpandas\u001b[0m\u001b[0;34m\u001b[0m\u001b[0;34m\u001b[0m\u001b[0m\n\u001b[0;32m----> 2\u001b[0;31m \u001b[0mdata\u001b[0m\u001b[0;34m=\u001b[0m\u001b[0mpandas\u001b[0m\u001b[0;34m.\u001b[0m\u001b[0mread_csv\u001b[0m\u001b[0;34m(\u001b[0m\u001b[0mr\u001b[0m\u001b[0;34m,\u001b[0m\u001b[0;34m\"https://www.kaggle.com/aakash50897/churn-modellingcsv/download\"\u001b[0m\u001b[0;34m)\u001b[0m\u001b[0;34m\u001b[0m\u001b[0;34m\u001b[0m\u001b[0m\n\u001b[0m\u001b[1;32m      3\u001b[0m \u001b[0mdata\u001b[0m\u001b[0;34m.\u001b[0m\u001b[0mdescribe\u001b[0m\u001b[0;34m(\u001b[0m\u001b[0;34m)\u001b[0m\u001b[0;34m\u001b[0m\u001b[0;34m\u001b[0m\u001b[0m\n",
            "\u001b[0;31mNameError\u001b[0m: name 'r' is not defined"
          ]
        }
      ]
    }
  ]
}