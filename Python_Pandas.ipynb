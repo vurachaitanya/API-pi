{
  "nbformat": 4,
  "nbformat_minor": 0,
  "metadata": {
    "colab": {
      "name": "Python_Pandas.ipynb",
      "provenance": [],
      "authorship_tag": "ABX9TyPbyr9V3d1KN59krC8oxs5d",
      "include_colab_link": true
    },
    "kernelspec": {
      "name": "python3",
      "display_name": "Python 3"
    }
  },
  "cells": [
    {
      "cell_type": "markdown",
      "metadata": {
        "id": "view-in-github",
        "colab_type": "text"
      },
      "source": [
        "<a href=\"https://colab.research.google.com/github/vurachaitanya/API-pi/blob/master/Python_Pandas.ipynb\" target=\"_parent\"><img src=\"https://colab.research.google.com/assets/colab-badge.svg\" alt=\"Open In Colab\"/></a>"
      ]
    },
    {
      "cell_type": "code",
      "metadata": {
        "id": "564zk0OEAkmL",
        "colab_type": "code",
        "colab": {
          "base_uri": "https://localhost:8080/",
          "height": 52
        },
        "outputId": "2a14556b-6851-4840-d5cc-519c19d3b0bc"
      },
      "source": [
        "def myfun(x):\n",
        "  print(\"hellow world\",\"Welcome to \",x)\n",
        "  return(x) # Both print and Return can be used to output to the screen\n",
        "myfun(\"chaitu\")"
      ],
      "execution_count": 16,
      "outputs": [
        {
          "output_type": "stream",
          "text": [
            "hellow world Welcome to  chaitu\n"
          ],
          "name": "stdout"
        },
        {
          "output_type": "execute_result",
          "data": {
            "text/plain": [
              "'chaitu'"
            ]
          },
          "metadata": {
            "tags": []
          },
          "execution_count": 16
        }
      ]
    },
    {
      "cell_type": "code",
      "metadata": {
        "id": "IgaLu6MTCrbM",
        "colab_type": "code",
        "colab": {}
      },
      "source": [
        "def sum(a,b):\n",
        "  # this is function defined\n",
        "  c=a+b\n",
        "\n",
        "  return c\n",
        "sum(5,7)\n",
        "sum.__doc__  # displays documentations \n"
      ],
      "execution_count": 0,
      "outputs": []
    },
    {
      "cell_type": "markdown",
      "metadata": {
        "id": "8vr2VOrODK8F",
        "colab_type": "text"
      },
      "source": [
        "# Data types\n",
        "# Control Structure\n",
        "# Functions"
      ]
    },
    {
      "cell_type": "markdown",
      "metadata": {
        "id": "gbjB8xECD42X",
        "colab_type": "text"
      },
      "source": [
        "# Save functions in another file\n",
        "* save func into a file name call code6\n",
        "* import code6 (It should be in the same folder)\n",
        "* code6.myfun(7,4) to give sum of two objects\n",
        "# numpy & scipy = Mathmatical computing with python\n",
        "# pandas = data I/O, data handling and manipulation\n",
        "# mathplotlib, seabron = data visulization\n",
        "# sklearn = ML\n",
        "# tensorflow, theano = ML & DL\n",
        "# keras = DL\n"
      ]
    },
    {
      "cell_type": "code",
      "metadata": {
        "id": "ygr16zXgDKB4",
        "colab_type": "code",
        "colab": {
          "base_uri": "https://localhost:8080/",
          "height": 35
        },
        "outputId": "3ac04f86-293f-4540-f7d2-89e057022e4c"
      },
      "source": [
        "import os\n",
        "import datetime\n",
        "print(datetime.datetime.now())\n"
      ],
      "execution_count": 26,
      "outputs": [
        {
          "output_type": "stream",
          "text": [
            "2020-03-07 17:55:59.963853\n"
          ],
          "name": "stdout"
        }
      ]
    },
    {
      "cell_type": "code",
      "metadata": {
        "id": "UURY_w_6JAw4",
        "colab_type": "code",
        "colab": {
          "base_uri": "https://localhost:8080/",
          "height": 52
        },
        "outputId": "52c82f6d-9f2d-4346-d62a-aa88ce69bd1d"
      },
      "source": [
        "import numpy\n",
        "x=[4,6,8]\n",
        "y=[5,4,9]\n",
        "print(x+y)\n",
        "a=numpy.array([4,6,8])\n",
        "b=numpy.array([8,9,4])\n",
        "print(a+b)"
      ],
      "execution_count": 29,
      "outputs": [
        {
          "output_type": "stream",
          "text": [
            "[4, 6, 8, 5, 4, 9]\n",
            "[12 15 12]\n"
          ],
          "name": "stdout"
        }
      ]
    },
    {
      "cell_type": "markdown",
      "metadata": {
        "id": "-L8WROPYKQ5g",
        "colab_type": "text"
      },
      "source": [
        "# Pandas\n",
        "*  r = Raw Data\n",
        "* If data column dose not have any header **Syntax** = header=None\n",
        "# Pandas Data Sets & data frame (type of data)\n",
        "* Serise - \n",
        "* Data frame - 2d\n",
        "* parllel - 3D\n",
        "# Clearning the data\n",
        "* temp/ currency should be show as int and city name should consider it as char\n",
        "# numpy = n dimention array\n"
      ]
    },
    {
      "cell_type": "code",
      "metadata": {
        "id": "88r7NoVPKPHr",
        "colab_type": "code",
        "colab": {
          "base_uri": "https://localhost:8080/",
          "height": 364
        },
        "outputId": "20049121-c09c-4adb-b218-f257bfafcd11"
      },
      "source": [
        "import pandas\n",
        "# r = Raw Data\n",
        "data=pandas.read_csv(r\"https://www.stats.govt.nz/assets/Uploads/Electronic-card-transactions/Electronic-card-transactions-January-2020/Download-data/electronic-card-transactions-january-2020-csv.zip\")\n",
        "print (data.shape) # no of rows and columns in a dataframe\n",
        "print(data.columns) # to get the name of columns\n",
        "# df=pandas.read_csv(r\"C:\\location\\\",header=None)\n",
        "# print (data.columns=['sf','test']) # To add columns / headding to the columns\n",
        "# Data cleaning \n",
        "df=pandas.read_csv(r\"https://www.stats.govt.nz/assets/Uploads/Electronic-card-transactions/Electronic-card-transactions-January-2020/Download-data/electronic-card-transactions-january-2020-csv.zip\",na_values=\"\")\n",
        "# To check missing values and sum of them\n",
        "print(df.isnull().sum())\n",
        "# to clean the missing values, remove if null or replace certain paramertes by mean median SD etc.\n",
        "\n",
        "\n",
        "\n",
        "\n",
        "\n"
      ],
      "execution_count": 42,
      "outputs": [
        {
          "output_type": "stream",
          "text": [
            "(16621, 14)\n",
            "Index(['Series_reference', 'Period', 'Data_value', 'Suppressed', 'STATUS',\n",
            "       'UNITS', 'Magnitude', 'Subject', 'Group', 'Series_title_1',\n",
            "       'Series_title_2', 'Series_title_3', 'Series_title_4', 'Series_title_5'],\n",
            "      dtype='object')\n",
            "Series_reference        0\n",
            "Period                  0\n",
            "Data_value           1121\n",
            "Suppressed          16621\n",
            "STATUS                  0\n",
            "UNITS                   0\n",
            "Magnitude               0\n",
            "Subject                 0\n",
            "Group                   0\n",
            "Series_title_1          0\n",
            "Series_title_2          0\n",
            "Series_title_3      13330\n",
            "Series_title_4      16621\n",
            "Series_title_5      16621\n",
            "dtype: int64\n"
          ],
          "name": "stdout"
        }
      ]
    },
    {
      "cell_type": "code",
      "metadata": {
        "id": "hnmtJ2vnSyLF",
        "colab_type": "code",
        "colab": {
          "base_uri": "https://localhost:8080/",
          "height": 569
        },
        "outputId": "a6735991-b4f6-44af-b168-a3779293fbab"
      },
      "source": [
        "import pandas\n",
        "df=pandas.read_csv(r\"https://www.stats.govt.nz/assets/Uploads/Electronic-card-transactions/Electronic-card-transactions-January-2020/Download-data/electronic-card-transactions-january-2020-csv.zip\",na_values=\"\")\n",
        "###print(df.count)\n",
        "#if in a row we are missing 3 valumes in a column drop the row\n",
        "df.dropna(thresh=5,inplace=True)\n",
        "\n",
        "# Place Mean if int and value is not present ...so fill with mean,median..only for integers\n",
        "# if data is catagrical then you need to use , Mode(Most frequetly repeted value) (Ex: county, Gender, True false)\n",
        "###print(df.fillna(df.mean(),inplace=True)) \n",
        "#df.replace('.',5,inplace=True) # replace all the \".\" with \"5\"\n",
        "#EX: salary of an employ if not need to replace with min sal\n",
        "df.head()\n",
        "df.head(8) # first 8 rows\n",
        "df.tail() # last 5 rows\n",
        "df.tail(3)\n"
      ],
      "execution_count": 58,
      "outputs": [
        {
          "output_type": "execute_result",
          "data": {
            "text/html": [
              "<div>\n",
              "<style scoped>\n",
              "    .dataframe tbody tr th:only-of-type {\n",
              "        vertical-align: middle;\n",
              "    }\n",
              "\n",
              "    .dataframe tbody tr th {\n",
              "        vertical-align: top;\n",
              "    }\n",
              "\n",
              "    .dataframe thead th {\n",
              "        text-align: right;\n",
              "    }\n",
              "</style>\n",
              "<table border=\"1\" class=\"dataframe\">\n",
              "  <thead>\n",
              "    <tr style=\"text-align: right;\">\n",
              "      <th></th>\n",
              "      <th>Series_reference</th>\n",
              "      <th>Period</th>\n",
              "      <th>Data_value</th>\n",
              "      <th>Suppressed</th>\n",
              "      <th>STATUS</th>\n",
              "      <th>UNITS</th>\n",
              "      <th>Magnitude</th>\n",
              "      <th>Subject</th>\n",
              "      <th>Group</th>\n",
              "      <th>Series_title_1</th>\n",
              "      <th>Series_title_2</th>\n",
              "      <th>Series_title_3</th>\n",
              "      <th>Series_title_4</th>\n",
              "      <th>Series_title_5</th>\n",
              "    </tr>\n",
              "  </thead>\n",
              "  <tbody>\n",
              "    <tr>\n",
              "      <th>16616</th>\n",
              "      <td>ECTQ.S4AXP</td>\n",
              "      <td>2018.12</td>\n",
              "      <td>44.4</td>\n",
              "      <td>NaN</td>\n",
              "      <td>F</td>\n",
              "      <td>Percent</td>\n",
              "      <td>0</td>\n",
              "      <td>Electronic Card Transactions (ANZSIC06) - ECT</td>\n",
              "      <td>Electronic card transactions by mean and propo...</td>\n",
              "      <td>Actual</td>\n",
              "      <td>Debit card usage as a proportion of total ECT ...</td>\n",
              "      <td>Proportion (%)</td>\n",
              "      <td>NaN</td>\n",
              "      <td>NaN</td>\n",
              "    </tr>\n",
              "    <tr>\n",
              "      <th>16617</th>\n",
              "      <td>ECTQ.S4AXP</td>\n",
              "      <td>2019.03</td>\n",
              "      <td>43.5</td>\n",
              "      <td>NaN</td>\n",
              "      <td>F</td>\n",
              "      <td>Percent</td>\n",
              "      <td>0</td>\n",
              "      <td>Electronic Card Transactions (ANZSIC06) - ECT</td>\n",
              "      <td>Electronic card transactions by mean and propo...</td>\n",
              "      <td>Actual</td>\n",
              "      <td>Debit card usage as a proportion of total ECT ...</td>\n",
              "      <td>Proportion (%)</td>\n",
              "      <td>NaN</td>\n",
              "      <td>NaN</td>\n",
              "    </tr>\n",
              "    <tr>\n",
              "      <th>16618</th>\n",
              "      <td>ECTQ.S4AXP</td>\n",
              "      <td>2019.06</td>\n",
              "      <td>44.9</td>\n",
              "      <td>NaN</td>\n",
              "      <td>F</td>\n",
              "      <td>Percent</td>\n",
              "      <td>0</td>\n",
              "      <td>Electronic Card Transactions (ANZSIC06) - ECT</td>\n",
              "      <td>Electronic card transactions by mean and propo...</td>\n",
              "      <td>Actual</td>\n",
              "      <td>Debit card usage as a proportion of total ECT ...</td>\n",
              "      <td>Proportion (%)</td>\n",
              "      <td>NaN</td>\n",
              "      <td>NaN</td>\n",
              "    </tr>\n",
              "    <tr>\n",
              "      <th>16619</th>\n",
              "      <td>ECTQ.S4AXP</td>\n",
              "      <td>2019.09</td>\n",
              "      <td>44.9</td>\n",
              "      <td>NaN</td>\n",
              "      <td>F</td>\n",
              "      <td>Percent</td>\n",
              "      <td>0</td>\n",
              "      <td>Electronic Card Transactions (ANZSIC06) - ECT</td>\n",
              "      <td>Electronic card transactions by mean and propo...</td>\n",
              "      <td>Actual</td>\n",
              "      <td>Debit card usage as a proportion of total ECT ...</td>\n",
              "      <td>Proportion (%)</td>\n",
              "      <td>NaN</td>\n",
              "      <td>NaN</td>\n",
              "    </tr>\n",
              "    <tr>\n",
              "      <th>16620</th>\n",
              "      <td>ECTQ.S4AXP</td>\n",
              "      <td>2019.12</td>\n",
              "      <td>43.6</td>\n",
              "      <td>NaN</td>\n",
              "      <td>F</td>\n",
              "      <td>Percent</td>\n",
              "      <td>0</td>\n",
              "      <td>Electronic Card Transactions (ANZSIC06) - ECT</td>\n",
              "      <td>Electronic card transactions by mean and propo...</td>\n",
              "      <td>Actual</td>\n",
              "      <td>Debit card usage as a proportion of total ECT ...</td>\n",
              "      <td>Proportion (%)</td>\n",
              "      <td>NaN</td>\n",
              "      <td>NaN</td>\n",
              "    </tr>\n",
              "  </tbody>\n",
              "</table>\n",
              "</div>"
            ],
            "text/plain": [
              "      Series_reference   Period  ...  Series_title_4  Series_title_5\n",
              "16616       ECTQ.S4AXP  2018.12  ...             NaN             NaN\n",
              "16617       ECTQ.S4AXP  2019.03  ...             NaN             NaN\n",
              "16618       ECTQ.S4AXP  2019.06  ...             NaN             NaN\n",
              "16619       ECTQ.S4AXP  2019.09  ...             NaN             NaN\n",
              "16620       ECTQ.S4AXP  2019.12  ...             NaN             NaN\n",
              "\n",
              "[5 rows x 14 columns]"
            ]
          },
          "metadata": {
            "tags": []
          },
          "execution_count": 58
        }
      ]
    },
    {
      "cell_type": "code",
      "metadata": {
        "id": "a2BaQ5PDWwVx",
        "colab_type": "code",
        "colab": {
          "base_uri": "https://localhost:8080/",
          "height": 121
        },
        "outputId": "5c20d114-acdf-4441-d1ee-1a90c68e981f"
      },
      "source": [
        "df['Period'].head()"
      ],
      "execution_count": 59,
      "outputs": [
        {
          "output_type": "execute_result",
          "data": {
            "text/plain": [
              "0    2001.03\n",
              "1    2002.03\n",
              "2    2003.03\n",
              "3    2004.03\n",
              "4    2005.03\n",
              "Name: Period, dtype: float64"
            ]
          },
          "metadata": {
            "tags": []
          },
          "execution_count": 59
        }
      ]
    },
    {
      "cell_type": "code",
      "metadata": {
        "id": "frP7WPflW9D4",
        "colab_type": "code",
        "colab": {
          "base_uri": "https://localhost:8080/",
          "height": 121
        },
        "outputId": "db0d0116-a1c2-4a3e-c2e4-30312175b63a"
      },
      "source": [
        "df.Period.head() # if column headding has spaces can't be used this way"
      ],
      "execution_count": 60,
      "outputs": [
        {
          "output_type": "execute_result",
          "data": {
            "text/plain": [
              "0    2001.03\n",
              "1    2002.03\n",
              "2    2003.03\n",
              "3    2004.03\n",
              "4    2005.03\n",
              "Name: Period, dtype: float64"
            ]
          },
          "metadata": {
            "tags": []
          },
          "execution_count": 60
        }
      ]
    },
    {
      "cell_type": "code",
      "metadata": {
        "id": "xS9b1rz3XHug",
        "colab_type": "code",
        "colab": {
          "base_uri": "https://localhost:8080/",
          "height": 225
        },
        "outputId": "b46def5e-7fd5-4718-b49f-ebb0fa596cc9"
      },
      "source": [
        "df.iloc[:,1]. # all the location in first column INDEXING"
      ],
      "execution_count": 62,
      "outputs": [
        {
          "output_type": "execute_result",
          "data": {
            "text/plain": [
              "<bound method NDFrame.head of 0        2001.03\n",
              "1        2002.03\n",
              "2        2003.03\n",
              "3        2004.03\n",
              "4        2005.03\n",
              "          ...   \n",
              "16616    2018.12\n",
              "16617    2019.03\n",
              "16618    2019.06\n",
              "16619    2019.09\n",
              "16620    2019.12\n",
              "Name: Period, Length: 16621, dtype: float64>"
            ]
          },
          "metadata": {
            "tags": []
          },
          "execution_count": 62
        }
      ]
    },
    {
      "cell_type": "code",
      "metadata": {
        "id": "MKyPhoPHXip6",
        "colab_type": "code",
        "colab": {
          "base_uri": "https://localhost:8080/",
          "height": 35
        },
        "outputId": "dd94ada7-717f-45b1-a234-ff67aeb4102c"
      },
      "source": [
        "df.Period.count()\n"
      ],
      "execution_count": 63,
      "outputs": [
        {
          "output_type": "execute_result",
          "data": {
            "text/plain": [
              "16621"
            ]
          },
          "metadata": {
            "tags": []
          },
          "execution_count": 63
        }
      ]
    },
    {
      "cell_type": "code",
      "metadata": {
        "id": "YhQOZhTyXrQ0",
        "colab_type": "code",
        "colab": {
          "base_uri": "https://localhost:8080/",
          "height": 35
        },
        "outputId": "5394450c-d366-4e30-acce-0c22db7e83ae"
      },
      "source": [
        "df['Data_value'][df['Data_value']<200].count()"
      ],
      "execution_count": 66,
      "outputs": [
        {
          "output_type": "execute_result",
          "data": {
            "text/plain": [
              "4057"
            ]
          },
          "metadata": {
            "tags": []
          },
          "execution_count": 66
        }
      ]
    },
    {
      "cell_type": "code",
      "metadata": {
        "id": "0kdqXFIVYMhm",
        "colab_type": "code",
        "colab": {
          "base_uri": "https://localhost:8080/",
          "height": 35
        },
        "outputId": "2979a7b9-43cd-4e61-c57a-e09786ff4bca"
      },
      "source": [
        "df['Data_value'][df['Data_value']>200].count()"
      ],
      "execution_count": 67,
      "outputs": [
        {
          "output_type": "execute_result",
          "data": {
            "text/plain": [
              "11443"
            ]
          },
          "metadata": {
            "tags": []
          },
          "execution_count": 67
        }
      ]
    },
    {
      "cell_type": "code",
      "metadata": {
        "id": "C3OSIaZpYTuP",
        "colab_type": "code",
        "colab": {
          "base_uri": "https://localhost:8080/",
          "height": 35
        },
        "outputId": "d586cb16-0ada-4c15-894b-0282ac424397"
      },
      "source": [
        "print(df.Data_value.fillna(df.Data_value.mean(),inplace=True))\n"
      ],
      "execution_count": 91,
      "outputs": [
        {
          "output_type": "stream",
          "text": [
            "None\n"
          ],
          "name": "stdout"
        }
      ]
    },
    {
      "cell_type": "code",
      "metadata": {
        "id": "k2lMUXH8dVdt",
        "colab_type": "code",
        "colab": {
          "base_uri": "https://localhost:8080/",
          "height": 35
        },
        "outputId": "2ad647c3-8ed6-49fc-ed38-40cec9301963"
      },
      "source": [
        "print(df.Series_title_4.fillna(df.Series_title_4.mode,inplace=True))"
      ],
      "execution_count": 90,
      "outputs": [
        {
          "output_type": "stream",
          "text": [
            "None\n"
          ],
          "name": "stdout"
        }
      ]
    },
    {
      "cell_type": "markdown",
      "metadata": {
        "id": "SsB_TVN5ZPtQ",
        "colab_type": "text"
      },
      "source": [
        "# Statistical Analysis with Pandas"
      ]
    },
    {
      "cell_type": "code",
      "metadata": {
        "id": "beLN-fahY9GC",
        "colab_type": "code",
        "colab": {
          "base_uri": "https://localhost:8080/",
          "height": 294
        },
        "outputId": "e7ea702f-1a23-4d7c-a3a5-5e9c5888dee6"
      },
      "source": [
        "df.describe() # statistical summary of dataset"
      ],
      "execution_count": 69,
      "outputs": [
        {
          "output_type": "execute_result",
          "data": {
            "text/html": [
              "<div>\n",
              "<style scoped>\n",
              "    .dataframe tbody tr th:only-of-type {\n",
              "        vertical-align: middle;\n",
              "    }\n",
              "\n",
              "    .dataframe tbody tr th {\n",
              "        vertical-align: top;\n",
              "    }\n",
              "\n",
              "    .dataframe thead th {\n",
              "        text-align: right;\n",
              "    }\n",
              "</style>\n",
              "<table border=\"1\" class=\"dataframe\">\n",
              "  <thead>\n",
              "    <tr style=\"text-align: right;\">\n",
              "      <th></th>\n",
              "      <th>Period</th>\n",
              "      <th>Data_value</th>\n",
              "      <th>Suppressed</th>\n",
              "      <th>Magnitude</th>\n",
              "      <th>Series_title_4</th>\n",
              "      <th>Series_title_5</th>\n",
              "    </tr>\n",
              "  </thead>\n",
              "  <tbody>\n",
              "    <tr>\n",
              "      <th>count</th>\n",
              "      <td>16621.000000</td>\n",
              "      <td>1.550000e+04</td>\n",
              "      <td>0.0</td>\n",
              "      <td>16621.000000</td>\n",
              "      <td>0.0</td>\n",
              "      <td>0.0</td>\n",
              "    </tr>\n",
              "    <tr>\n",
              "      <th>mean</th>\n",
              "      <td>2010.283014</td>\n",
              "      <td>1.431928e+07</td>\n",
              "      <td>NaN</td>\n",
              "      <td>4.198303</td>\n",
              "      <td>NaN</td>\n",
              "      <td>NaN</td>\n",
              "    </tr>\n",
              "    <tr>\n",
              "      <th>std</th>\n",
              "      <td>5.415901</td>\n",
              "      <td>7.891689e+07</td>\n",
              "      <td>NaN</td>\n",
              "      <td>2.750368</td>\n",
              "      <td>NaN</td>\n",
              "      <td>NaN</td>\n",
              "    </tr>\n",
              "    <tr>\n",
              "      <th>min</th>\n",
              "      <td>2000.010000</td>\n",
              "      <td>-2.700000e+00</td>\n",
              "      <td>NaN</td>\n",
              "      <td>0.000000</td>\n",
              "      <td>NaN</td>\n",
              "      <td>NaN</td>\n",
              "    </tr>\n",
              "    <tr>\n",
              "      <th>25%</th>\n",
              "      <td>2006.030000</td>\n",
              "      <td>1.768750e+02</td>\n",
              "      <td>NaN</td>\n",
              "      <td>0.000000</td>\n",
              "      <td>NaN</td>\n",
              "      <td>NaN</td>\n",
              "    </tr>\n",
              "    <tr>\n",
              "      <th>50%</th>\n",
              "      <td>2010.090000</td>\n",
              "      <td>1.141900e+03</td>\n",
              "      <td>NaN</td>\n",
              "      <td>6.000000</td>\n",
              "      <td>NaN</td>\n",
              "      <td>NaN</td>\n",
              "    </tr>\n",
              "    <tr>\n",
              "      <th>75%</th>\n",
              "      <td>2015.050000</td>\n",
              "      <td>3.978925e+03</td>\n",
              "      <td>NaN</td>\n",
              "      <td>6.000000</td>\n",
              "      <td>NaN</td>\n",
              "      <td>NaN</td>\n",
              "    </tr>\n",
              "    <tr>\n",
              "      <th>max</th>\n",
              "      <td>2020.010000</td>\n",
              "      <td>1.835450e+09</td>\n",
              "      <td>NaN</td>\n",
              "      <td>6.000000</td>\n",
              "      <td>NaN</td>\n",
              "      <td>NaN</td>\n",
              "    </tr>\n",
              "  </tbody>\n",
              "</table>\n",
              "</div>"
            ],
            "text/plain": [
              "             Period    Data_value  ...  Series_title_4  Series_title_5\n",
              "count  16621.000000  1.550000e+04  ...             0.0             0.0\n",
              "mean    2010.283014  1.431928e+07  ...             NaN             NaN\n",
              "std        5.415901  7.891689e+07  ...             NaN             NaN\n",
              "min     2000.010000 -2.700000e+00  ...             NaN             NaN\n",
              "25%     2006.030000  1.768750e+02  ...             NaN             NaN\n",
              "50%     2010.090000  1.141900e+03  ...             NaN             NaN\n",
              "75%     2015.050000  3.978925e+03  ...             NaN             NaN\n",
              "max     2020.010000  1.835450e+09  ...             NaN             NaN\n",
              "\n",
              "[8 rows x 6 columns]"
            ]
          },
          "metadata": {
            "tags": []
          },
          "execution_count": 69
        }
      ]
    },
    {
      "cell_type": "code",
      "metadata": {
        "id": "3PaU8W3XZMum",
        "colab_type": "code",
        "colab": {
          "base_uri": "https://localhost:8080/",
          "height": 35
        },
        "outputId": "ce3e7750-3502-4536-dcf1-b7b0a3ca5c46"
      },
      "source": [
        "df.Period[df.Period > 2006].mean()"
      ],
      "execution_count": 76,
      "outputs": [
        {
          "output_type": "execute_result",
          "data": {
            "text/plain": [
              "2012.5529536266104"
            ]
          },
          "metadata": {
            "tags": []
          },
          "execution_count": 76
        }
      ]
    },
    {
      "cell_type": "code",
      "metadata": {
        "id": "n0frNverbIMU",
        "colab_type": "code",
        "colab": {
          "base_uri": "https://localhost:8080/",
          "height": 35
        },
        "outputId": "26f38542-3660-4ed7-d2c2-9935e7356869"
      },
      "source": [
        "df.Period.sort_values(inplace=False)[19] # 19th Percentile value"
      ],
      "execution_count": 77,
      "outputs": [
        {
          "output_type": "execute_result",
          "data": {
            "text/plain": [
              "2001.03"
            ]
          },
          "metadata": {
            "tags": []
          },
          "execution_count": 77
        }
      ]
    },
    {
      "cell_type": "code",
      "metadata": {
        "id": "bd0xcAQ2bigh",
        "colab_type": "code",
        "colab": {
          "base_uri": "https://localhost:8080/",
          "height": 52
        },
        "outputId": "57be674f-501b-4788-c353-e0b861fbe11d"
      },
      "source": [
        "df.Data_value.mode()"
      ],
      "execution_count": 79,
      "outputs": [
        {
          "output_type": "execute_result",
          "data": {
            "text/plain": [
              "0    0.7\n",
              "dtype: float64"
            ]
          },
          "metadata": {
            "tags": []
          },
          "execution_count": 79
        }
      ]
    },
    {
      "cell_type": "code",
      "metadata": {
        "id": "Q5-ugg7Cb3-l",
        "colab_type": "code",
        "colab": {
          "base_uri": "https://localhost:8080/",
          "height": 260
        },
        "outputId": "67f49654-46ba-403a-ecc2-b1bb3f410109"
      },
      "source": [
        "df.cov # Covariance Matrix"
      ],
      "execution_count": 80,
      "outputs": [
        {
          "output_type": "execute_result",
          "data": {
            "text/plain": [
              "<bound method DataFrame.cov of       Series_reference   Period  ...  Series_title_4  Series_title_5\n",
              "0           ECTA.S19A1  2001.03  ...             NaN             NaN\n",
              "1           ECTA.S19A1  2002.03  ...             NaN             NaN\n",
              "2           ECTA.S19A1  2003.03  ...             NaN             NaN\n",
              "3           ECTA.S19A1  2004.03  ...             NaN             NaN\n",
              "4           ECTA.S19A1  2005.03  ...             NaN             NaN\n",
              "...                ...      ...  ...             ...             ...\n",
              "16616       ECTQ.S4AXP  2018.12  ...             NaN             NaN\n",
              "16617       ECTQ.S4AXP  2019.03  ...             NaN             NaN\n",
              "16618       ECTQ.S4AXP  2019.06  ...             NaN             NaN\n",
              "16619       ECTQ.S4AXP  2019.09  ...             NaN             NaN\n",
              "16620       ECTQ.S4AXP  2019.12  ...             NaN             NaN\n",
              "\n",
              "[16621 rows x 14 columns]>"
            ]
          },
          "metadata": {
            "tags": []
          },
          "execution_count": 80
        }
      ]
    },
    {
      "cell_type": "code",
      "metadata": {
        "id": "Dynt0Tlrb7W_",
        "colab_type": "code",
        "colab": {
          "base_uri": "https://localhost:8080/",
          "height": 233
        },
        "outputId": "8d389ba5-6bd9-4187-b59e-467805c504c5"
      },
      "source": [
        "df.corr() # Correlation Matrix"
      ],
      "execution_count": 81,
      "outputs": [
        {
          "output_type": "execute_result",
          "data": {
            "text/html": [
              "<div>\n",
              "<style scoped>\n",
              "    .dataframe tbody tr th:only-of-type {\n",
              "        vertical-align: middle;\n",
              "    }\n",
              "\n",
              "    .dataframe tbody tr th {\n",
              "        vertical-align: top;\n",
              "    }\n",
              "\n",
              "    .dataframe thead th {\n",
              "        text-align: right;\n",
              "    }\n",
              "</style>\n",
              "<table border=\"1\" class=\"dataframe\">\n",
              "  <thead>\n",
              "    <tr style=\"text-align: right;\">\n",
              "      <th></th>\n",
              "      <th>Period</th>\n",
              "      <th>Data_value</th>\n",
              "      <th>Suppressed</th>\n",
              "      <th>Magnitude</th>\n",
              "      <th>Series_title_4</th>\n",
              "      <th>Series_title_5</th>\n",
              "    </tr>\n",
              "  </thead>\n",
              "  <tbody>\n",
              "    <tr>\n",
              "      <th>Period</th>\n",
              "      <td>1.000000</td>\n",
              "      <td>0.059414</td>\n",
              "      <td>NaN</td>\n",
              "      <td>0.047815</td>\n",
              "      <td>NaN</td>\n",
              "      <td>NaN</td>\n",
              "    </tr>\n",
              "    <tr>\n",
              "      <th>Data_value</th>\n",
              "      <td>0.059414</td>\n",
              "      <td>1.000000</td>\n",
              "      <td>NaN</td>\n",
              "      <td>-0.284261</td>\n",
              "      <td>NaN</td>\n",
              "      <td>NaN</td>\n",
              "    </tr>\n",
              "    <tr>\n",
              "      <th>Suppressed</th>\n",
              "      <td>NaN</td>\n",
              "      <td>NaN</td>\n",
              "      <td>NaN</td>\n",
              "      <td>NaN</td>\n",
              "      <td>NaN</td>\n",
              "      <td>NaN</td>\n",
              "    </tr>\n",
              "    <tr>\n",
              "      <th>Magnitude</th>\n",
              "      <td>0.047815</td>\n",
              "      <td>-0.284261</td>\n",
              "      <td>NaN</td>\n",
              "      <td>1.000000</td>\n",
              "      <td>NaN</td>\n",
              "      <td>NaN</td>\n",
              "    </tr>\n",
              "    <tr>\n",
              "      <th>Series_title_4</th>\n",
              "      <td>NaN</td>\n",
              "      <td>NaN</td>\n",
              "      <td>NaN</td>\n",
              "      <td>NaN</td>\n",
              "      <td>NaN</td>\n",
              "      <td>NaN</td>\n",
              "    </tr>\n",
              "    <tr>\n",
              "      <th>Series_title_5</th>\n",
              "      <td>NaN</td>\n",
              "      <td>NaN</td>\n",
              "      <td>NaN</td>\n",
              "      <td>NaN</td>\n",
              "      <td>NaN</td>\n",
              "      <td>NaN</td>\n",
              "    </tr>\n",
              "  </tbody>\n",
              "</table>\n",
              "</div>"
            ],
            "text/plain": [
              "                  Period  Data_value  ...  Series_title_4  Series_title_5\n",
              "Period          1.000000    0.059414  ...             NaN             NaN\n",
              "Data_value      0.059414    1.000000  ...             NaN             NaN\n",
              "Suppressed           NaN         NaN  ...             NaN             NaN\n",
              "Magnitude       0.047815   -0.284261  ...             NaN             NaN\n",
              "Series_title_4       NaN         NaN  ...             NaN             NaN\n",
              "Series_title_5       NaN         NaN  ...             NaN             NaN\n",
              "\n",
              "[6 rows x 6 columns]"
            ]
          },
          "metadata": {
            "tags": []
          },
          "execution_count": 81
        }
      ]
    },
    {
      "cell_type": "code",
      "metadata": {
        "id": "lRxqBkDIcAPa",
        "colab_type": "code",
        "colab": {
          "base_uri": "https://localhost:8080/",
          "height": 139
        },
        "outputId": "999a0254-745e-4936-d72d-265f44c25bc7"
      },
      "source": [
        "df.skew()\n"
      ],
      "execution_count": 82,
      "outputs": [
        {
          "output_type": "execute_result",
          "data": {
            "text/plain": [
              "Period            -0.042027\n",
              "Data_value        11.481054\n",
              "Suppressed              NaN\n",
              "Magnitude         -0.871482\n",
              "Series_title_4          NaN\n",
              "Series_title_5          NaN\n",
              "dtype: float64"
            ]
          },
          "metadata": {
            "tags": []
          },
          "execution_count": 82
        }
      ]
    },
    {
      "cell_type": "code",
      "metadata": {
        "id": "GlyPddbScCtP",
        "colab_type": "code",
        "colab": {
          "base_uri": "https://localhost:8080/",
          "height": 139
        },
        "outputId": "9d025562-b0a1-4754-8548-aa2f1c946e68"
      },
      "source": [
        "df.kurt()"
      ],
      "execution_count": 83,
      "outputs": [
        {
          "output_type": "execute_result",
          "data": {
            "text/plain": [
              "Period             -1.122496\n",
              "Data_value        170.924632\n",
              "Suppressed               NaN\n",
              "Magnitude          -1.240669\n",
              "Series_title_4           NaN\n",
              "Series_title_5           NaN\n",
              "dtype: float64"
            ]
          },
          "metadata": {
            "tags": []
          },
          "execution_count": 83
        }
      ]
    },
    {
      "cell_type": "code",
      "metadata": {
        "id": "s3Zq4mrTcFuT",
        "colab_type": "code",
        "colab": {
          "base_uri": "https://localhost:8080/",
          "height": 35
        },
        "outputId": "250b4951-4586-4343-a6e5-a98343fc3932"
      },
      "source": [
        "df.Data_value.min()"
      ],
      "execution_count": 84,
      "outputs": [
        {
          "output_type": "execute_result",
          "data": {
            "text/plain": [
              "-2.7"
            ]
          },
          "metadata": {
            "tags": []
          },
          "execution_count": 84
        }
      ]
    },
    {
      "cell_type": "code",
      "metadata": {
        "id": "f81-2ayVcJwj",
        "colab_type": "code",
        "colab": {
          "base_uri": "https://localhost:8080/",
          "height": 35
        },
        "outputId": "895d1e33-7a85-4db2-f08b-db950c603431"
      },
      "source": [
        "df.Data_value.max()"
      ],
      "execution_count": 85,
      "outputs": [
        {
          "output_type": "execute_result",
          "data": {
            "text/plain": [
              "1835450231.0"
            ]
          },
          "metadata": {
            "tags": []
          },
          "execution_count": 85
        }
      ]
    }
  ]
}