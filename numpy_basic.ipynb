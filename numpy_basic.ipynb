{
  "nbformat": 4,
  "nbformat_minor": 0,
  "metadata": {
    "colab": {
      "name": "numpy_basic.ipynb",
      "provenance": [],
      "authorship_tag": "ABX9TyOeZKsOjMZ/ny3aGGTLSrPb",
      "include_colab_link": true
    },
    "kernelspec": {
      "name": "python3",
      "display_name": "Python 3"
    }
  },
  "cells": [
    {
      "cell_type": "markdown",
      "metadata": {
        "id": "view-in-github",
        "colab_type": "text"
      },
      "source": [
        "<a href=\"https://colab.research.google.com/github/vurachaitanya/API-pi/blob/master/numpy_basic.ipynb\" target=\"_parent\"><img src=\"https://colab.research.google.com/assets/colab-badge.svg\" alt=\"Open In Colab\"/></a>"
      ]
    },
    {
      "cell_type": "markdown",
      "metadata": {
        "id": "YOJK87xKWO5m",
        "colab_type": "text"
      },
      "source": [
        "# Numpy\n",
        "* Declaring Arrays using Numpy\n",
        "* Statistical Analysis Using Numpy\n",
        "* manipulation of array\n",
        "* linear Algebra using Numpy\n",
        "\n",
        "if we add below two objects we get added to the array not adding each"
      ]
    },
    {
      "cell_type": "code",
      "metadata": {
        "id": "6j4Z2OyvWM1R",
        "colab_type": "code",
        "colab": {
          "base_uri": "https://localhost:8080/",
          "height": 35
        },
        "outputId": "58009ccb-43d8-4008-9dec-fd1462f44a64"
      },
      "source": [
        "a = [1,2,9] # List can't do mathamatical caliculations where Arrays can be done\n",
        "b = [7,2,6]\n",
        "c = a+b\n",
        "print(c)"
      ],
      "execution_count": 1,
      "outputs": [
        {
          "output_type": "stream",
          "text": [
            "[1, 2, 9, 7, 2, 6]\n"
          ],
          "name": "stdout"
        }
      ]
    },
    {
      "cell_type": "code",
      "metadata": {
        "id": "mTypODQAW2hx",
        "colab_type": "code",
        "colab": {
          "base_uri": "https://localhost:8080/",
          "height": 52
        },
        "outputId": "1ce3eb38-4584-4fd2-ed15-0c3155ef3cca"
      },
      "source": [
        "import numpy\n",
        "\n",
        "a = [1,2,9]\n",
        "b = [7,2,6]\n",
        "c = a+b\n",
        "print (c)\n",
        "\n",
        "a=numpy.array([2,4,6])\n",
        "b=numpy.array([7,1,8])\n",
        "c=a+b\n",
        "print (c)"
      ],
      "execution_count": 2,
      "outputs": [
        {
          "output_type": "stream",
          "text": [
            "[1, 2, 9, 7, 2, 6]\n",
            "[ 9  5 14]\n"
          ],
          "name": "stdout"
        }
      ]
    },
    {
      "cell_type": "markdown",
      "metadata": {
        "id": "pPhOtbs-Xu_1",
        "colab_type": "text"
      },
      "source": [
        "# Declaring Arrays using Numpy"
      ]
    },
    {
      "cell_type": "code",
      "metadata": {
        "id": "5VCqrl3OXzEg",
        "colab_type": "code",
        "colab": {
          "base_uri": "https://localhost:8080/",
          "height": 381
        },
        "outputId": "b17396a1-d948-4a0c-9224-9ecdec6519cf"
      },
      "source": [
        "#x=numpy.array([4,5,6])\n",
        "x=numpy.array([[7,4,2],[1,5,9],[3,6,7]])\n",
        "print(x)\n",
        "print(x.size) # total number of elements in the array\n",
        "\n",
        "print(x.shape) # shape of array --> rows & Cols\n",
        "\n",
        "print(x[1,2]) # Prints the 9 from 2nd column(0,1) 3rd row (0,1,2)\n",
        "print (x[2,1]) # prints 3rd column 2nd row object\n",
        "print(x[2,0:3]) ## below all are similar\n",
        "print (x[2,:])\n",
        "print (x[2])\n",
        "# Columns 2nd\n",
        "print (\"                          \")\n",
        "print(x[:,2])\n",
        "print (\"                          \")\n",
        "x[:,1]=[7,8,9] ## Replace 2nd column \n",
        "print(x)\n",
        "print (\"                          \")\n",
        "# Add 0th column + 1st Column and store result in 2nd column\n",
        "x[:,2]=x[:,0]+x[:,1]\n",
        "print(x)\n",
        "print (\"                          \")"
      ],
      "execution_count": 17,
      "outputs": [
        {
          "output_type": "stream",
          "text": [
            "[[7 4 2]\n",
            " [1 5 9]\n",
            " [3 6 7]]\n",
            "9\n",
            "(3, 3)\n",
            "9\n",
            "6\n",
            "[3 6 7]\n",
            "[3 6 7]\n",
            "[3 6 7]\n",
            "                          \n",
            "[2 9 7]\n",
            "                          \n",
            "[[7 7 2]\n",
            " [1 8 9]\n",
            " [3 9 7]]\n",
            "                          \n",
            "[[ 7  7 14]\n",
            " [ 1  8  9]\n",
            " [ 3  9 12]]\n",
            "                          \n"
          ],
          "name": "stdout"
        }
      ]
    },
    {
      "cell_type": "code",
      "metadata": {
        "id": "bLL__6xJcyQl",
        "colab_type": "code",
        "colab": {
          "base_uri": "https://localhost:8080/",
          "height": 260
        },
        "outputId": "2bd3c3ea-c2a2-49ae-86e2-a9e6ed397547"
      },
      "source": [
        "x=numpy.ones(5) # arrays with values as 1\n",
        "print(x)\n",
        "print (\"                          \")\n",
        "y=numpy.ones((2,5))\n",
        "print(y)\n",
        "\n",
        "print (\"                          \")\n",
        "print (\"                          \")\n",
        "z=numpy.zeros((4,6))\n",
        "print(z)\n",
        "print (\"                          \")\n",
        "print (\"                          \")\n",
        "c=numpy.array([[1,2,3],[2,4],[1,5,7,9]])\n",
        "print(c)\n",
        "c[2][3]"
      ],
      "execution_count": 26,
      "outputs": [
        {
          "output_type": "stream",
          "text": [
            "[1. 1. 1. 1. 1.]\n",
            "                          \n",
            "[[1. 1. 1. 1. 1.]\n",
            " [1. 1. 1. 1. 1.]]\n",
            "                          \n",
            "                          \n",
            "[[0. 0. 0. 0. 0. 0.]\n",
            " [0. 0. 0. 0. 0. 0.]\n",
            " [0. 0. 0. 0. 0. 0.]\n",
            " [0. 0. 0. 0. 0. 0.]]\n",
            "                          \n",
            "                          \n",
            "[list([1, 2, 3]) list([2, 4]) list([1, 5, 7, 9])]\n"
          ],
          "name": "stdout"
        },
        {
          "output_type": "execute_result",
          "data": {
            "text/plain": [
              "9"
            ]
          },
          "metadata": {
            "tags": []
          },
          "execution_count": 26
        }
      ]
    },
    {
      "cell_type": "code",
      "metadata": {
        "id": "MYDjSKfieBaN",
        "colab_type": "code",
        "colab": {
          "base_uri": "https://localhost:8080/",
          "height": 52
        },
        "outputId": "bb01c984-e59c-4987-91f2-d9ec1776a52c"
      },
      "source": [
        "x=2*numpy.ones((2,4))\n",
        "print(x)"
      ],
      "execution_count": 27,
      "outputs": [
        {
          "output_type": "stream",
          "text": [
            "[[2. 2. 2. 2.]\n",
            " [2. 2. 2. 2.]]\n"
          ],
          "name": "stdout"
        }
      ]
    },
    {
      "cell_type": "code",
      "metadata": {
        "id": "uqNduKHEeLdV",
        "colab_type": "code",
        "colab": {
          "base_uri": "https://localhost:8080/",
          "height": 35
        },
        "outputId": "1275c54e-b953-42e6-f04c-58a1afac33e2"
      },
      "source": [
        "x=numpy.arange(10) # sequential array\n",
        "print(x)"
      ],
      "execution_count": 28,
      "outputs": [
        {
          "output_type": "stream",
          "text": [
            "[0 1 2 3 4 5 6 7 8 9]\n"
          ],
          "name": "stdout"
        }
      ]
    },
    {
      "cell_type": "code",
      "metadata": {
        "id": "6eugYctxedo_",
        "colab_type": "code",
        "colab": {
          "base_uri": "https://localhost:8080/",
          "height": 35
        },
        "outputId": "5b9ccb33-a959-46fd-adc6-26ab2a399fbd"
      },
      "source": [
        "x=numpy.arange(3,12)\n",
        "print(x)"
      ],
      "execution_count": 30,
      "outputs": [
        {
          "output_type": "stream",
          "text": [
            "[ 3  4  5  6  7  8  9 10 11]\n"
          ],
          "name": "stdout"
        }
      ]
    },
    {
      "cell_type": "code",
      "metadata": {
        "id": "fLdsT8ufeqwj",
        "colab_type": "code",
        "colab": {
          "base_uri": "https://localhost:8080/",
          "height": 35
        },
        "outputId": "2d39ec6a-7bc9-4746-b404-ebc493077d14"
      },
      "source": [
        "x=numpy.arange(3,12,2) # every 2nd number should be removed\n",
        "print(x)"
      ],
      "execution_count": 31,
      "outputs": [
        {
          "output_type": "stream",
          "text": [
            "[ 3  5  7  9 11]\n"
          ],
          "name": "stdout"
        }
      ]
    },
    {
      "cell_type": "code",
      "metadata": {
        "id": "7NJsr1bOe4P6",
        "colab_type": "code",
        "colab": {
          "base_uri": "https://localhost:8080/",
          "height": 35
        },
        "outputId": "eaef2960-5120-4ecd-f5e6-372fc90522cf"
      },
      "source": [
        "x=numpy.linspace(start=4,stop=6,num=4) # Need 4 values starting from 4 to 6\n",
        "print(x)"
      ],
      "execution_count": 32,
      "outputs": [
        {
          "output_type": "stream",
          "text": [
            "[4.         4.66666667 5.33333333 6.        ]\n"
          ],
          "name": "stdout"
        }
      ]
    },
    {
      "cell_type": "code",
      "metadata": {
        "id": "0ZH8Sa0JfLey",
        "colab_type": "code",
        "colab": {
          "base_uri": "https://localhost:8080/",
          "height": 69
        },
        "outputId": "c4e075ea-71de-48c9-b82b-d474a2917eb8"
      },
      "source": [
        "x=numpy.linspace(1,9,12) # 12 objects\n",
        "print(x)\n",
        "type(x)\n",
        "x.dtype"
      ],
      "execution_count": 34,
      "outputs": [
        {
          "output_type": "stream",
          "text": [
            "[1.         1.72727273 2.45454545 3.18181818 3.90909091 4.63636364\n",
            " 5.36363636 6.09090909 6.81818182 7.54545455 8.27272727 9.        ]\n"
          ],
          "name": "stdout"
        },
        {
          "output_type": "execute_result",
          "data": {
            "text/plain": [
              "dtype('float64')"
            ]
          },
          "metadata": {
            "tags": []
          },
          "execution_count": 34
        }
      ]
    },
    {
      "cell_type": "code",
      "metadata": {
        "id": "n-Xp-bZgfY_9",
        "colab_type": "code",
        "colab": {
          "base_uri": "https://localhost:8080/",
          "height": 69
        },
        "outputId": "76f88546-aa3b-4a55-8d9a-0f729dd68e75"
      },
      "source": [
        "x=numpy.logspace(0,4,5) # Log spaces 1.e+4 = 1*10power of 4\n",
        "y=y.astype('int32')\n",
        "print(x)\n",
        "print(y)\n",
        "print(numpy.log10(10),numpy.log10(1000))"
      ],
      "execution_count": 41,
      "outputs": [
        {
          "output_type": "stream",
          "text": [
            "[1.e+00 1.e+01 1.e+02 1.e+03 1.e+04]\n",
            "[    1    10   100  1000 10000]\n",
            "1.0 3.0\n"
          ],
          "name": "stdout"
        }
      ]
    },
    {
      "cell_type": "code",
      "metadata": {
        "id": "niHBEePihQbS",
        "colab_type": "code",
        "colab": {
          "base_uri": "https://localhost:8080/",
          "height": 35
        },
        "outputId": "4fe75e07-4231-49a7-ce08-837decfca048"
      },
      "source": [
        "x=numpy.logspace(0,4,5,dtype='int32')\n",
        "print(x)"
      ],
      "execution_count": 42,
      "outputs": [
        {
          "output_type": "stream",
          "text": [
            "[    1    10   100  1000 10000]\n"
          ],
          "name": "stdout"
        }
      ]
    },
    {
      "cell_type": "markdown",
      "metadata": {
        "id": "tyeHxn0Nhg4J",
        "colab_type": "text"
      },
      "source": [
        "# Statistical Anaysis using Numpy\n"
      ]
    },
    {
      "cell_type": "code",
      "metadata": {
        "id": "Xc7YsvYshnnA",
        "colab_type": "code",
        "colab": {
          "base_uri": "https://localhost:8080/",
          "height": 121
        },
        "outputId": "7305806f-2a21-4d5d-8336-4dad747c32c3"
      },
      "source": [
        "x=numpy.array([[7,4,5],[4,8,1],[4,2,7]])\n",
        "print(x)\n",
        "print(x.min())\n",
        "print(x.max())\n",
        "print(x.mean())\n"
      ],
      "execution_count": 46,
      "outputs": [
        {
          "output_type": "stream",
          "text": [
            "[[7 4 5]\n",
            " [4 8 1]\n",
            " [4 2 7]]\n",
            "1\n",
            "8\n",
            "4.666666666666667\n"
          ],
          "name": "stdout"
        }
      ]
    },
    {
      "cell_type": "code",
      "metadata": {
        "id": "lq2t1Mi6ivCs",
        "colab_type": "code",
        "colab": {
          "base_uri": "https://localhost:8080/",
          "height": 173
        },
        "outputId": "4bbbd169-130c-4596-ab50-35c1acada8b1"
      },
      "source": [
        "x=numpy.array([[7,4,5],[4,8,1],[4,2,7]])\n",
        "print(x)\n",
        "print(x.min(axis=0) )# axis=0 is for column wise operation\n",
        "x.max(axis=0)\n",
        "print(\"                      \")\n",
        "print (x.min(axis=1)) # Axis=1 for row wise operation\n",
        "\n",
        "print(\"                      \")\n",
        "print(\"                      \")\n",
        "x.max(axis=1)\n",
        "x.mean(axis=1)"
      ],
      "execution_count": 49,
      "outputs": [
        {
          "output_type": "stream",
          "text": [
            "[[7 4 5]\n",
            " [4 8 1]\n",
            " [4 2 7]]\n",
            "[4 2 1]\n",
            "                      \n",
            "[4 1 2]\n",
            "                      \n",
            "                      \n"
          ],
          "name": "stdout"
        },
        {
          "output_type": "execute_result",
          "data": {
            "text/plain": [
              "array([5.33333333, 4.33333333, 4.33333333])"
            ]
          },
          "metadata": {
            "tags": []
          },
          "execution_count": 49
        }
      ]
    },
    {
      "cell_type": "markdown",
      "metadata": {
        "id": "Dl1FUXSMkED8",
        "colab_type": "text"
      },
      "source": [
        "# Spread of temperature is spread across delhi but mumbai its more nearer to mean\n",
        "[link text](https://www.google.com/imgres?imgurl=https%3A%2F%2Fi1.wp.com%2Fstatisticsbyjim.com%2Fwp-content%2Fuploads%2F2018%2F02%2Fvariability.png%3Fresize%3D576%252C384&imgrefurl=https%3A%2F%2Fstatisticsbyjim.com%2Fbasics%2Fvariability-range-interquartile-variance-standard-deviation%2F&tbnid=2Kfr-e5-kf1N3M&vet=12ahUKEwicx76Q1IjoAhXCLisKHU32DEAQMygBegUIARCAAg..i&docid=h9zgcP9jrIw1QM&w=576&h=384&q=variance%20graph&ved=2ahUKEwicx76Q1IjoAhXCLisKHU32DEAQMygBegUIARCAAg)\n",
        "\n",
        "![alt text](https://www.google.com/imgres?imgurl=https%3A%2F%2Fi1.wp.com%2Fstatisticsbyjim.com%2Fwp-content%2Fuploads%2F2018%2F02%2Fvariability.png%3Fresize%3D576%252C384&imgrefurl=https%3A%2F%2Fstatisticsbyjim.com%2Fbasics%2Fvariability-range-interquartile-variance-standard-deviation%2F&tbnid=2Kfr-e5-kf1N3M&vet=12ahUKEwicx76Q1IjoAhXCLisKHU32DEAQMygBegUIARCAAg..i&docid=h9zgcP9jrIw1QM&w=576&h=384&q=variance%20graph&ved=2ahUKEwicx76Q1IjoAhXCLisKHU32DEAQMygBegUIARCAAg)\n"
      ]
    },
    {
      "cell_type": "code",
      "metadata": {
        "id": "WuF_yJuGjJ0j",
        "colab_type": "code",
        "colab": {
          "base_uri": "https://localhost:8080/",
          "height": 87
        },
        "outputId": "6ffe447e-53f2-4f2c-db85-f8e9b386193c"
      },
      "source": [
        "# Variance = Spread of the data across mean\n",
        "# Teamp of delhi & mumbai\n",
        "d=numpy.array([19,20,24,26,29,31,36,44,49,55,35,25])\n",
        "m=numpy.array([21,22,22,33,33,22,33,33,22,22,33])\n",
        "print(  d.mean() )\n",
        "print( m.mean() )\n",
        "print(numpy.var(d))  \n",
        "print(numpy.var(m))        "
      ],
      "execution_count": 56,
      "outputs": [
        {
          "output_type": "stream",
          "text": [
            "32.75\n",
            "26.90909090909091\n",
            "121.02083333333333\n",
            "30.99173553719009\n"
          ],
          "name": "stdout"
        }
      ]
    },
    {
      "cell_type": "markdown",
      "metadata": {
        "id": "ZfqW2vholGL-",
        "colab_type": "text"
      },
      "source": [
        "# Bank example\n",
        "* if customer variant is very small then age is not affecting the customer of bank who are leaving.\n",
        "* So Variance is been used where the spread of the data is been viewed where mean and median is more of a mathamatical caluculations \n",
        "# Image examples\n",
        "* if the pixcels variant is more then some object is present in that image\n",
        "* if the variant is less or zero the images dose not have any object or it could be black or blank\n",
        "* Android phone if take blank image or black image it would share us to delete by using the variant of the image. it caliculates black(255,255,255), red(255,0,255) etc\n",
        "\n",
        "# Variant if more need to consider and if less don't\n"
      ]
    },
    {
      "cell_type": "markdown",
      "metadata": {
        "id": "_eEn-2Q0m2N6",
        "colab_type": "text"
      },
      "source": [
        "# Standard deviation = square root of variance"
      ]
    },
    {
      "cell_type": "code",
      "metadata": {
        "id": "daz_6NNAm6xf",
        "colab_type": "code",
        "colab": {
          "base_uri": "https://localhost:8080/",
          "height": 52
        },
        "outputId": "b11e0c22-959e-485b-ceef-6bd03255e4df"
      },
      "source": [
        "print(numpy.std(d))\n",
        "print(numpy.std(m))"
      ],
      "execution_count": 57,
      "outputs": [
        {
          "output_type": "stream",
          "text": [
            "11.000946928939042\n",
            "5.567022142689042\n"
          ],
          "name": "stdout"
        }
      ]
    },
    {
      "cell_type": "markdown",
      "metadata": {
        "id": "H_a--NvcnF7T",
        "colab_type": "text"
      },
      "source": [
        "# Manipulation of arrays\n"
      ]
    },
    {
      "cell_type": "code",
      "metadata": {
        "id": "IfRXpafdnLw2",
        "colab_type": "code",
        "colab": {}
      },
      "source": [
        "d=numpy.array([19,20,24,26,29,31,36,44,49,55,35,25])\n",
        "m=numpy.array([21,22,22,33,33,22,33,33,22,22,33])\n",
        "d.size\n",
        "d=d.reshape(6,3)\n",
        "print(d)\n",
        "d.shape\n",
        "d.dtype\n",
        "d=d.astype('float32')\n",
        "d"
      ],
      "execution_count": 0,
      "outputs": []
    },
    {
      "cell_type": "markdown",
      "metadata": {
        "id": "CUz2ANuOnf-9",
        "colab_type": "text"
      },
      "source": [
        "# Linear algebra using Numpy"
      ]
    },
    {
      "cell_type": "code",
      "metadata": {
        "id": "XheKf0uani_T",
        "colab_type": "code",
        "colab": {
          "base_uri": "https://localhost:8080/",
          "height": 225
        },
        "outputId": "97fde945-7acb-4f0a-aad4-5fe10d14b2bf"
      },
      "source": [
        "m=numpy.matrix([[4,5,6],[6,3,6],[8,2,9]]) #Matrix should have all columes and rows 3x3 and all the values should be present\n",
        "print(numpy.linalg.inv(m))\n",
        "print(numpy.linalg.inv(m)*m)\n",
        "\n",
        "print(\" Rank of matrix\")\n",
        "print(numpy.linalg.matrix_rank(m))\n",
        "print (\"eigen Vectors\")\n",
        "print(numpy.linalg.eig(m))"
      ],
      "execution_count": 61,
      "outputs": [
        {
          "output_type": "stream",
          "text": [
            "[[-0.35714286  0.78571429 -0.28571429]\n",
            " [ 0.14285714  0.28571429 -0.28571429]\n",
            " [ 0.28571429 -0.76190476  0.42857143]]\n",
            "[[ 1.00000000e+00  1.11022302e-16  7.77156117e-16]\n",
            " [ 0.00000000e+00  1.00000000e+00 -1.11022302e-16]\n",
            " [ 0.00000000e+00 -1.11022302e-16  1.00000000e+00]]\n",
            " Rank of matrix\n",
            "3\n",
            "eigen Vectors\n",
            "(array([16.74596669, -2.        ,  1.25403331]), matrix([[-0.52223297, -0.79075654, -0.52223297],\n",
            "        [-0.52223297,  0.33101437, -0.52223297],\n",
            "        [-0.67419986,  0.51491124,  0.67419986]]))\n"
          ],
          "name": "stdout"
        }
      ]
    },
    {
      "cell_type": "code",
      "metadata": {
        "id": "OcgvqNeCohY8",
        "colab_type": "code",
        "colab": {
          "base_uri": "https://localhost:8080/",
          "height": 35
        },
        "outputId": "42280149-b20a-46f6-a0cb-d5eb92c4e3f2"
      },
      "source": [
        "#2x+3y=13\n",
        "#4x-y=5\n",
        "a=[[2,3],[4,-1]]\n",
        "b=[13,5]\n",
        "numpy.linalg.solve(a,b)"
      ],
      "execution_count": 62,
      "outputs": [
        {
          "output_type": "execute_result",
          "data": {
            "text/plain": [
              "array([2., 3.])"
            ]
          },
          "metadata": {
            "tags": []
          },
          "execution_count": 62
        }
      ]
    }
  ]
}